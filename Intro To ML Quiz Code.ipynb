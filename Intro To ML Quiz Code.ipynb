{
 "cells": [
  {
   "cell_type": "code",
   "execution_count": 99,
   "id": "a1f592e5",
   "metadata": {},
   "outputs": [],
   "source": [
    "#importing pandas module\n",
    "import pandas as pd\n",
    "#importing the food CSV file\n",
    "food = pd.read_csv('food_africa.csv',encoding='latin-1') "
   ]
  },
  {
   "cell_type": "code",
   "execution_count": 100,
   "id": "64c60644",
   "metadata": {},
   "outputs": [
    {
     "data": {
      "text/html": [
       "<div>\n",
       "<style scoped>\n",
       "    .dataframe tbody tr th:only-of-type {\n",
       "        vertical-align: middle;\n",
       "    }\n",
       "\n",
       "    .dataframe tbody tr th {\n",
       "        vertical-align: top;\n",
       "    }\n",
       "\n",
       "    .dataframe thead th {\n",
       "        text-align: right;\n",
       "    }\n",
       "</style>\n",
       "<table border=\"1\" class=\"dataframe\">\n",
       "  <thead>\n",
       "    <tr style=\"text-align: right;\">\n",
       "      <th></th>\n",
       "      <th>Area Code</th>\n",
       "      <th>Area</th>\n",
       "      <th>Item Code</th>\n",
       "      <th>Item</th>\n",
       "      <th>Element Code</th>\n",
       "      <th>Element</th>\n",
       "      <th>Unit</th>\n",
       "      <th>Y2014</th>\n",
       "      <th>Y2015</th>\n",
       "      <th>Y2016</th>\n",
       "      <th>Y2017</th>\n",
       "      <th>Y2018</th>\n",
       "    </tr>\n",
       "  </thead>\n",
       "  <tbody>\n",
       "    <tr>\n",
       "      <th>0</th>\n",
       "      <td>4</td>\n",
       "      <td>Algeria</td>\n",
       "      <td>2501</td>\n",
       "      <td>Population</td>\n",
       "      <td>511</td>\n",
       "      <td>Total Population - Both sexes</td>\n",
       "      <td>1000 persons</td>\n",
       "      <td>38924.00</td>\n",
       "      <td>39728.00</td>\n",
       "      <td>40551.00</td>\n",
       "      <td>41389.00</td>\n",
       "      <td>42228.00</td>\n",
       "    </tr>\n",
       "    <tr>\n",
       "      <th>1</th>\n",
       "      <td>4</td>\n",
       "      <td>Algeria</td>\n",
       "      <td>2501</td>\n",
       "      <td>Population</td>\n",
       "      <td>5301</td>\n",
       "      <td>Domestic supply quantity</td>\n",
       "      <td>1000 tonnes</td>\n",
       "      <td>0.00</td>\n",
       "      <td>0.00</td>\n",
       "      <td>0.00</td>\n",
       "      <td>0.00</td>\n",
       "      <td>0.00</td>\n",
       "    </tr>\n",
       "    <tr>\n",
       "      <th>2</th>\n",
       "      <td>4</td>\n",
       "      <td>Algeria</td>\n",
       "      <td>2901</td>\n",
       "      <td>Grand Total</td>\n",
       "      <td>664</td>\n",
       "      <td>Food supply (kcal/capita/day)</td>\n",
       "      <td>kcal/capita/day</td>\n",
       "      <td>3377.00</td>\n",
       "      <td>3379.00</td>\n",
       "      <td>3372.00</td>\n",
       "      <td>3341.00</td>\n",
       "      <td>3322.00</td>\n",
       "    </tr>\n",
       "    <tr>\n",
       "      <th>3</th>\n",
       "      <td>4</td>\n",
       "      <td>Algeria</td>\n",
       "      <td>2901</td>\n",
       "      <td>Grand Total</td>\n",
       "      <td>674</td>\n",
       "      <td>Protein supply quantity (g/capita/day)</td>\n",
       "      <td>g/capita/day</td>\n",
       "      <td>94.90</td>\n",
       "      <td>94.35</td>\n",
       "      <td>94.72</td>\n",
       "      <td>92.82</td>\n",
       "      <td>91.83</td>\n",
       "    </tr>\n",
       "    <tr>\n",
       "      <th>4</th>\n",
       "      <td>4</td>\n",
       "      <td>Algeria</td>\n",
       "      <td>2901</td>\n",
       "      <td>Grand Total</td>\n",
       "      <td>684</td>\n",
       "      <td>Fat supply quantity (g/capita/day)</td>\n",
       "      <td>g/capita/day</td>\n",
       "      <td>80.06</td>\n",
       "      <td>79.36</td>\n",
       "      <td>77.40</td>\n",
       "      <td>80.19</td>\n",
       "      <td>77.28</td>\n",
       "    </tr>\n",
       "    <tr>\n",
       "      <th>...</th>\n",
       "      <td>...</td>\n",
       "      <td>...</td>\n",
       "      <td>...</td>\n",
       "      <td>...</td>\n",
       "      <td>...</td>\n",
       "      <td>...</td>\n",
       "      <td>...</td>\n",
       "      <td>...</td>\n",
       "      <td>...</td>\n",
       "      <td>...</td>\n",
       "      <td>...</td>\n",
       "      <td>...</td>\n",
       "    </tr>\n",
       "    <tr>\n",
       "      <th>60938</th>\n",
       "      <td>181</td>\n",
       "      <td>Zimbabwe</td>\n",
       "      <td>2899</td>\n",
       "      <td>Miscellaneous</td>\n",
       "      <td>5142</td>\n",
       "      <td>Food</td>\n",
       "      <td>1000 tonnes</td>\n",
       "      <td>42.00</td>\n",
       "      <td>46.00</td>\n",
       "      <td>33.00</td>\n",
       "      <td>19.00</td>\n",
       "      <td>16.00</td>\n",
       "    </tr>\n",
       "    <tr>\n",
       "      <th>60939</th>\n",
       "      <td>181</td>\n",
       "      <td>Zimbabwe</td>\n",
       "      <td>2899</td>\n",
       "      <td>Miscellaneous</td>\n",
       "      <td>645</td>\n",
       "      <td>Food supply quantity (kg/capita/yr)</td>\n",
       "      <td>kg</td>\n",
       "      <td>3.06</td>\n",
       "      <td>3.33</td>\n",
       "      <td>2.35</td>\n",
       "      <td>1.33</td>\n",
       "      <td>1.08</td>\n",
       "    </tr>\n",
       "    <tr>\n",
       "      <th>60940</th>\n",
       "      <td>181</td>\n",
       "      <td>Zimbabwe</td>\n",
       "      <td>2899</td>\n",
       "      <td>Miscellaneous</td>\n",
       "      <td>664</td>\n",
       "      <td>Food supply (kcal/capita/day)</td>\n",
       "      <td>kcal/capita/day</td>\n",
       "      <td>3.00</td>\n",
       "      <td>4.00</td>\n",
       "      <td>3.00</td>\n",
       "      <td>1.00</td>\n",
       "      <td>1.00</td>\n",
       "    </tr>\n",
       "    <tr>\n",
       "      <th>60941</th>\n",
       "      <td>181</td>\n",
       "      <td>Zimbabwe</td>\n",
       "      <td>2899</td>\n",
       "      <td>Miscellaneous</td>\n",
       "      <td>674</td>\n",
       "      <td>Protein supply quantity (g/capita/day)</td>\n",
       "      <td>g/capita/day</td>\n",
       "      <td>0.10</td>\n",
       "      <td>0.11</td>\n",
       "      <td>0.08</td>\n",
       "      <td>0.04</td>\n",
       "      <td>0.04</td>\n",
       "    </tr>\n",
       "    <tr>\n",
       "      <th>60942</th>\n",
       "      <td>181</td>\n",
       "      <td>Zimbabwe</td>\n",
       "      <td>2899</td>\n",
       "      <td>Miscellaneous</td>\n",
       "      <td>684</td>\n",
       "      <td>Fat supply quantity (g/capita/day)</td>\n",
       "      <td>g/capita/day</td>\n",
       "      <td>0.04</td>\n",
       "      <td>0.05</td>\n",
       "      <td>0.03</td>\n",
       "      <td>0.02</td>\n",
       "      <td>0.01</td>\n",
       "    </tr>\n",
       "  </tbody>\n",
       "</table>\n",
       "<p>60943 rows × 12 columns</p>\n",
       "</div>"
      ],
      "text/plain": [
       "       Area Code      Area  Item Code           Item  Element Code  \\\n",
       "0              4   Algeria       2501     Population           511   \n",
       "1              4   Algeria       2501     Population          5301   \n",
       "2              4   Algeria       2901    Grand Total           664   \n",
       "3              4   Algeria       2901    Grand Total           674   \n",
       "4              4   Algeria       2901    Grand Total           684   \n",
       "...          ...       ...        ...            ...           ...   \n",
       "60938        181  Zimbabwe       2899  Miscellaneous          5142   \n",
       "60939        181  Zimbabwe       2899  Miscellaneous           645   \n",
       "60940        181  Zimbabwe       2899  Miscellaneous           664   \n",
       "60941        181  Zimbabwe       2899  Miscellaneous           674   \n",
       "60942        181  Zimbabwe       2899  Miscellaneous           684   \n",
       "\n",
       "                                      Element             Unit     Y2014  \\\n",
       "0               Total Population - Both sexes     1000 persons  38924.00   \n",
       "1                    Domestic supply quantity      1000 tonnes      0.00   \n",
       "2               Food supply (kcal/capita/day)  kcal/capita/day   3377.00   \n",
       "3      Protein supply quantity (g/capita/day)     g/capita/day     94.90   \n",
       "4          Fat supply quantity (g/capita/day)     g/capita/day     80.06   \n",
       "...                                       ...              ...       ...   \n",
       "60938                                    Food      1000 tonnes     42.00   \n",
       "60939     Food supply quantity (kg/capita/yr)               kg      3.06   \n",
       "60940           Food supply (kcal/capita/day)  kcal/capita/day      3.00   \n",
       "60941  Protein supply quantity (g/capita/day)     g/capita/day      0.10   \n",
       "60942      Fat supply quantity (g/capita/day)     g/capita/day      0.04   \n",
       "\n",
       "          Y2015     Y2016     Y2017     Y2018  \n",
       "0      39728.00  40551.00  41389.00  42228.00  \n",
       "1          0.00      0.00      0.00      0.00  \n",
       "2       3379.00   3372.00   3341.00   3322.00  \n",
       "3         94.35     94.72     92.82     91.83  \n",
       "4         79.36     77.40     80.19     77.28  \n",
       "...         ...       ...       ...       ...  \n",
       "60938     46.00     33.00     19.00     16.00  \n",
       "60939      3.33      2.35      1.33      1.08  \n",
       "60940      4.00      3.00      1.00      1.00  \n",
       "60941      0.11      0.08      0.04      0.04  \n",
       "60942      0.05      0.03      0.02      0.01  \n",
       "\n",
       "[60943 rows x 12 columns]"
      ]
     },
     "execution_count": 100,
     "metadata": {},
     "output_type": "execute_result"
    }
   ],
   "source": [
    "food"
   ]
  },
  {
   "cell_type": "code",
   "execution_count": 101,
   "id": "a6b5a5b7",
   "metadata": {},
   "outputs": [
    {
     "name": "stdout",
     "output_type": "stream",
     "text": [
      "                 Y2014      Y2017\n",
      "Item                             \n",
      "Animal fats  209460.54  269617.53\n"
     ]
    },
    {
     "name": "stderr",
     "output_type": "stream",
     "text": [
      "C:\\Users\\USERPC~1\\AppData\\Local\\Temp/ipykernel_11056/3442204549.py:3: FutureWarning: Indexing with multiple keys (implicitly converted to a tuple of keys) will be deprecated, use a list instead.\n",
      "  f = food.groupby('Item')['Y2014','Y2017'].sum()\n"
     ]
    }
   ],
   "source": [
    "# Question 11\n",
    "\n",
    "f = food.groupby('Item')['Y2014','Y2017'].sum()\n",
    "\n",
    "print(f.iloc[[3], [0,1]])"
   ]
  },
  {
   "cell_type": "code",
   "execution_count": 102,
   "id": "005620fb",
   "metadata": {},
   "outputs": [
    {
     "name": "stdout",
     "output_type": "stream",
     "text": [
      "mean     135.236\n",
      "std     1603.404\n",
      "Name: Y2015, dtype: float64\n"
     ]
    }
   ],
   "source": [
    "# Question 12\n",
    "\n",
    "g = food['Y2015'].agg(['mean', 'std'])\n",
    "print(g.round(3))"
   ]
  },
  {
   "cell_type": "code",
   "execution_count": 140,
   "id": "1694a741",
   "metadata": {},
   "outputs": [
    {
     "name": "stdout",
     "output_type": "stream",
     "text": [
      "1535\n",
      "2.52\n"
     ]
    }
   ],
   "source": [
    "# Question 13\n",
    "\n",
    "food = pd.read_csv('food_africa.csv',encoding='latin-1')\n",
    "\n",
    "h = food['Y2016']\n",
    "\n",
    "missing_data = h.isnull().sum()\n",
    "\n",
    "percent_missing = h.isnull().sum() * 100 / len(h)\n",
    "\n",
    "print(missing_data)\n",
    "\n",
    "print(round(percent_missing, 2))"
   ]
  },
  {
   "cell_type": "code",
   "execution_count": 104,
   "id": "b75e5c84",
   "metadata": {},
   "outputs": [
    {
     "name": "stdout",
     "output_type": "stream",
     "text": [
      "Element Code    1.000000\n",
      "Y2014           0.024457\n",
      "Y2015           0.023889\n",
      "Y2016           0.023444\n",
      "Y2017           0.024254\n",
      "Y2018           0.024279\n",
      "Name: Element Code, dtype: float64\n"
     ]
    }
   ],
   "source": [
    "# Question 14\n",
    "\n",
    "i = food[food.columns[3:]].corr()['Element Code'][:]\n",
    "\n",
    "print(i.sort_index())"
   ]
  },
  {
   "cell_type": "code",
   "execution_count": 105,
   "id": "5cfc5f40",
   "metadata": {},
   "outputs": [
    {
     "name": "stdout",
     "output_type": "stream",
     "text": [
      "                     Y2014      Y2015      Y2016      Y2017      Y2018\n",
      "Element                                                               \n",
      "Import Quantity  274144.48  267018.46  286582.78  294559.09  287997.09\n"
     ]
    },
    {
     "name": "stderr",
     "output_type": "stream",
     "text": [
      "C:\\Users\\USERPC~1\\AppData\\Local\\Temp/ipykernel_11056/2000412607.py:5: FutureWarning: Indexing with multiple keys (implicitly converted to a tuple of keys) will be deprecated, use a list instead.\n",
      "  j = food.groupby('Element')['Y2014', 'Y2015', 'Y2016', 'Y2017', 'Y2018'].sum()\n"
     ]
    }
   ],
   "source": [
    "# Question 15\n",
    "# Which year has the highest sum of import quanty\n",
    "\n",
    "\n",
    "j = food.groupby('Element')['Y2014', 'Y2015', 'Y2016', 'Y2017', 'Y2018'].sum()\n",
    "k = j.iloc[[7], [0,1,2,3,4]]\n",
    "print(k)"
   ]
  },
  {
   "cell_type": "code",
   "execution_count": 106,
   "id": "3be3f61d",
   "metadata": {},
   "outputs": [
    {
     "name": "stdout",
     "output_type": "stream",
     "text": [
      "1931287.75\n"
     ]
    }
   ],
   "source": [
    "#  Question 16\n",
    "# Which is the total number of the sum of Production in 2014?\n",
    "\n",
    "j = food.groupby(['Element'])['Y2014'].sum()\n",
    "k = j.loc['Production']\n",
    "print(k)"
   ]
  },
  {
   "cell_type": "code",
   "execution_count": 139,
   "id": "7e38ac33",
   "metadata": {},
   "outputs": [
    {
     "name": "stdout",
     "output_type": "stream",
     "text": [
      "Element\n",
      "Domestic supply quantity                  2161192.10\n",
      "Production                                2075072.89\n",
      "Food                                      1303841.28\n",
      "Total Population - Both sexes             1140605.00\n",
      "Food supply (kcal/capita/day)              455261.00\n",
      "Processing                                 308429.00\n",
      "Import Quantity                            287997.09\n",
      "Feed                                       233489.68\n",
      "Export Quantity                            181594.80\n",
      "Losses                                     163902.00\n",
      "Other uses (non-food)                       91300.97\n",
      "Food supply quantity (kg/capita/yr)         49056.85\n",
      "Residuals                                   34864.00\n",
      "Seed                                        25263.14\n",
      "Stock Variation                             20577.91\n",
      "Protein supply quantity (g/capita/day)      11833.56\n",
      "Fat supply quantity (g/capita/day)          10258.69\n",
      "Tourist consumption                            90.00\n",
      "Name: Y2018, dtype: float64\n"
     ]
    }
   ],
   "source": [
    "#  Question 17\n",
    "# Which of these elements had the highest sum in 2018?\n",
    "\n",
    "#Ans = Domestic supply quantity = 2161192.10\n",
    "\n",
    "j = food.groupby(['Element'])['Y2018'].sum()\n",
    "k = j.sort_values(ascending=False)\n",
    "print(k)"
   ]
  },
  {
   "cell_type": "code",
   "execution_count": 137,
   "id": "84a641a2",
   "metadata": {},
   "outputs": [
    {
     "name": "stdout",
     "output_type": "stream",
     "text": [
      "Element\n",
      "Tourist consumption                          90.00\n",
      "Fat supply quantity (g/capita/day)        10258.69\n",
      "Protein supply quantity (g/capita/day)    11833.56\n",
      "Name: Y2018, dtype: float64\n"
     ]
    }
   ],
   "source": [
    "#  Question 18\n",
    "# Which of these elements had the 3rd lowest sum in 2018?\n",
    "\n",
    "#Ans = Protein supply quantity (g/capita/day) = 11833.56\n",
    "\n",
    "j = food.groupby(['Element'])['Y2018'].sum()\n",
    "k = j.nsmallest(3).sort_values(ascending=True)\n",
    "print(k)"
   ]
  },
  {
   "cell_type": "code",
   "execution_count": 138,
   "id": "df9ee41f",
   "metadata": {
    "scrolled": true
   },
   "outputs": [
    {
     "name": "stdout",
     "output_type": "stream",
     "text": [
      "                                                    Y2018\n",
      "Area     Element                                         \n",
      "Algeria  Domestic supply quantity                90023.42\n",
      "         Export Quantity                           811.54\n",
      "         Fat supply quantity (g/capita/day)        309.09\n",
      "         Feed                                    10668.00\n",
      "         Food                                    63736.33\n",
      "...                                                   ...\n",
      "Zimbabwe Protein supply quantity (g/capita/day)    176.57\n",
      "         Residuals                                -546.00\n",
      "         Seed                                      140.00\n",
      "         Stock Variation                          -447.00\n",
      "         Total Population - Both sexes           14439.00\n",
      "\n",
      "[803 rows x 1 columns]\n"
     ]
    }
   ],
   "source": [
    "#  Question 19\n",
    "# What is the total Import Quantity in Algeria in 2018?\n",
    "\n",
    "#Ans = Could only see Export Quantity = 811.54\n",
    "\n",
    "\n",
    "j = food.groupby(['Area', 'Element'])[['Y2018']].sum()\n",
    "print(j)"
   ]
  },
  {
   "cell_type": "code",
   "execution_count": 110,
   "id": "f178cb70",
   "metadata": {},
   "outputs": [
    {
     "data": {
      "text/plain": [
       "Area Code       49\n",
       "Item Code       49\n",
       "Item            49\n",
       "Element Code    49\n",
       "Element         49\n",
       "Unit            49\n",
       "Y2014           49\n",
       "Y2015           49\n",
       "Y2016           49\n",
       "Y2017           49\n",
       "Y2018           49\n",
       "dtype: int64"
      ]
     },
     "execution_count": 110,
     "metadata": {},
     "output_type": "execute_result"
    }
   ],
   "source": [
    "#  Question 20\n",
    "# What is the total number of unique countries in the dataset?\n",
    "\n",
    "#Ans = 49\n",
    "\n",
    "food.groupby('Area').nunique().count()"
   ]
  }
 ],
 "metadata": {
  "kernelspec": {
   "display_name": "Python 3 (ipykernel)",
   "language": "python",
   "name": "python3"
  },
  "language_info": {
   "codemirror_mode": {
    "name": "ipython",
    "version": 3
   },
   "file_extension": ".py",
   "mimetype": "text/x-python",
   "name": "python",
   "nbconvert_exporter": "python",
   "pygments_lexer": "ipython3",
   "version": "3.9.7"
  }
 },
 "nbformat": 4,
 "nbformat_minor": 5
}
